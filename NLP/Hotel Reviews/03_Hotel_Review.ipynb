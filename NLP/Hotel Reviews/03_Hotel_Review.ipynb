{
  "nbformat": 4,
  "nbformat_minor": 0,
  "metadata": {
    "colab": {
      "provenance": []
    },
    "kernelspec": {
      "name": "python3",
      "display_name": "Python 3"
    },
    "language_info": {
      "name": "python"
    }
  },
  "cells": [
    {
      "cell_type": "code",
      "execution_count": 1,
      "metadata": {
        "id": "uIi2jpzd_SWs"
      },
      "outputs": [],
      "source": [
        "# loadig the filtered dataset\n",
        "import pandas as pd\n",
        "\n",
        "df = pd.read_csv('/content/Hotel_Reviews_Filtered.csv')"
      ]
    },
    {
      "cell_type": "code",
      "source": [
        "# Finding the most useful tags to keep\n",
        "# Removing open and closed parenthesis\n",
        "df.Tags = df.Tags.str.strip(\"[']\")\n",
        "# Removing all the quotes too\n",
        "df.Tags = df.Tags.str.replace(\"', '\", \",\", regex=False)"
      ],
      "metadata": {
        "id": "bRF__QLdAvWm"
      },
      "execution_count": 2,
      "outputs": []
    },
    {
      "cell_type": "code",
      "source": [
        "# Removing this to take advantage of the 'already a phrase' fact of the dataset\n",
        "# Now splitting the strings into a list\n",
        "tag_list_df = df.Tags.str.split(',', expand = True)"
      ],
      "metadata": {
        "id": "iP0MMtbCBWQg"
      },
      "execution_count": 3,
      "outputs": []
    },
    {
      "cell_type": "code",
      "source": [
        "# Removing leading and trailing spaces\n",
        "df[\"Tag_1\"] = tag_list_df[0].str.strip()\n",
        "df[\"Tag_2\"] = tag_list_df[1].str.strip()\n",
        "df[\"Tag_3\"] = tag_list_df[2].str.strip()\n",
        "df[\"Tag_4\"] = tag_list_df[3].str.strip()\n",
        "df[\"Tag_5\"] = tag_list_df[4].str.strip()\n",
        "df[\"Tag_6\"] = tag_list_df[5].str.strip()"
      ],
      "metadata": {
        "id": "wK15e5x7BeK9"
      },
      "execution_count": 4,
      "outputs": []
    },
    {
      "cell_type": "code",
      "source": [
        "# Merging the 6 columns into one with melt\n",
        "df_tags = df.melt(value_vars=[\"Tag_1\", \"Tag_2\", \"Tag_3\", \"Tag_4\", \"Tag_5\", \"Tag_6\"])"
      ],
      "metadata": {
        "id": "ZSwdBJFRBhSw"
      },
      "execution_count": 5,
      "outputs": []
    },
    {
      "cell_type": "code",
      "source": [
        "# Get the value counts\n",
        "tag_vc = df_tags.value.value_counts()\n",
        "# print(tag_vc)\n",
        "print(\"The shape of the tags with no filtering:\", str(df_tags.shape))\n",
        "# Drop rooms, suites, and length of stay, mobile device and anything with less count than a 1000\n",
        "df_tags = df_tags[~df_tags.value.str.contains(\"Standard|room|Stayed|device|Beds|Suite|Studio|King|Superior|Double\", na=False, case=False)]\n",
        "tag_vc = df_tags.value.value_counts().reset_index(name=\"count\").query(\"count > 1000\")\n",
        "# Print the top 10 (there should only be 9 and we'll use these in the filtering section)\n",
        "print(tag_vc[:10])"
      ],
      "metadata": {
        "colab": {
          "base_uri": "https://localhost:8080/"
        },
        "id": "iFeR9PH8Bq2S",
        "outputId": "57c53b08-9e09-41b0-9edd-97f726fcc095"
      },
      "execution_count": 6,
      "outputs": [
        {
          "output_type": "stream",
          "name": "stdout",
          "text": [
            "The shape of the tags with no filtering: (3094428, 2)\n",
            "                        value   count\n",
            "0                Leisure trip  417778\n",
            "1                      Couple  252294\n",
            "2               Solo traveler  108545\n",
            "3               Business trip   82939\n",
            "4                       Group   65392\n",
            "5  Family with young children   61015\n",
            "6  Family with older children   26349\n",
            "7      Travelers with friends    2143\n",
            "8                  With a pet    1405\n"
          ]
        }
      ]
    }
  ]
}