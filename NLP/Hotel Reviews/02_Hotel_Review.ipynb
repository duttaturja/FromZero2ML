{
  "nbformat": 4,
  "nbformat_minor": 0,
  "metadata": {
    "colab": {
      "provenance": []
    },
    "kernelspec": {
      "name": "python3",
      "display_name": "Python 3"
    },
    "language_info": {
      "name": "python"
    }
  },
  "cells": [
    {
      "cell_type": "code",
      "execution_count": 1,
      "metadata": {
        "id": "6KZNGisTRFav"
      },
      "outputs": [],
      "source": [
        "import pandas as pd\n",
        "import time\n",
        "import ast"
      ]
    },
    {
      "cell_type": "code",
      "source": [
        "def replace_address(row):\n",
        "  if \"Netherlands\" in row[\"Hotel_Address\"]:\n",
        "    return \"Amsterdam, Netherlands\"\n",
        "  elif \"Barcelona\" in row[\"Hotel_Address\"]:\n",
        "    return \"Barcelona, Spain\"\n",
        "  elif \"Vienna\" in row[\"Hotel_Address\"]:\n",
        "    return \"Vienna, Austria\"\n",
        "  elif \"United Kingdom\" in row[\"Hotel_Address\"]:\n",
        "    return \"London, United Kingdom\"\n",
        "  elif \"Berlin\" in row[\"Hotel_Address\"]:\n",
        "    return \"Berlin, Germany\"\n",
        "  elif \"Milan\" in row[\"Hotel_Address\"]:\n",
        "    return \"Milan, Italy\"\n",
        "  elif \"France\" in row[\"Hotel_Address\"]:\n",
        "    return \"Paris, France\"\n",
        "  else:\n",
        "    return row.Hotel_Address"
      ],
      "metadata": {
        "id": "fHDMZRaRvmDq"
      },
      "execution_count": 2,
      "outputs": []
    },
    {
      "cell_type": "code",
      "source": [
        "# loading the data\n",
        "start = time.time()\n",
        "df = pd.read_csv(\"/content/Hotel_Reviews.csv\")"
      ],
      "metadata": {
        "id": "Q8lybXKVwUj4"
      },
      "execution_count": 3,
      "outputs": []
    },
    {
      "cell_type": "code",
      "source": [
        "# droping unwanted columns\n",
        "df.drop([\"lat\", \"lng\"], axis=1, inplace=True)"
      ],
      "metadata": {
        "id": "r7T9mlMmwuhG"
      },
      "execution_count": 4,
      "outputs": []
    },
    {
      "cell_type": "code",
      "source": [
        "# Replacing addresses with more useful form of data\n",
        "df[\"Hotel_Address\"] = df.apply(replace_address, axis=1)"
      ],
      "metadata": {
        "id": "Ttip5WXiw9jm"
      },
      "execution_count": 5,
      "outputs": []
    },
    {
      "cell_type": "code",
      "source": [
        "# Droping `Additional_Number_of_Scoring`\n",
        "df.drop([\"Additional_Number_of_Scoring\"], axis=1, inplace=True)\n",
        "# Replacing `Total_Number_of_Reviews` and `Average_Score` with our own calculated values\n",
        "df['Total_Number_of_Reviews'] = df.groupby('Hotel_Name')['Reviewer_Score'].transform('count')\n",
        "df['Average_Score'] = df.groupby('Hotel_Name')['Reviewer_Score'].transform('mean').round(1)"
      ],
      "metadata": {
        "id": "vIBg1XojxJRH"
      },
      "execution_count": 6,
      "outputs": []
    },
    {
      "cell_type": "code",
      "source": [
        "# Process the Tags into new columns\n",
        "# The file Hotel_Reviews_Tags.py, identifies the most important tags\n",
        "# Leisure trip, Couple, Solo traveler, Business trip, Group combined with Travelers with friends,\n",
        "# Family with young children, Family with older children, With a pet\n",
        "df[\"Leisure_trip\"] = df.Tags.apply(lambda tag: 1 if \"Leisure trip\" in tag else 0)\n",
        "df[\"Couple\"] = df.Tags.apply(lambda tag: 1 if \"Couple\" in tag else 0)\n",
        "df[\"Solo_traveler\"] = df.Tags.apply(lambda tag: 1 if \"Solo traveler\" in tag else 0)\n",
        "df[\"Business_trip\"] = df.Tags.apply(lambda tag: 1 if \"Business trip\" in tag else 0)\n",
        "df[\"Group\"] = df.Tags.apply(lambda tag: 1 if \"Group\" in tag or \"Travelers with friends\" in tag else 0)\n",
        "df[\"Family_with_young_children\"] = df.Tags.apply(lambda tag: 1 if \"Family with young children\" in tag else 0)\n",
        "df[\"Family_with_older_children\"] = df.Tags.apply(lambda tag: 1 if \"Family with older children\" in tag else 0)\n",
        "df[\"With_a_pet\"] = df.Tags.apply(lambda tag: 1 if \"With a pet\" in tag else 0)"
      ],
      "metadata": {
        "id": "NXevhaW9xtE2"
      },
      "execution_count": 7,
      "outputs": []
    },
    {
      "cell_type": "code",
      "source": [
        "# No longer need any of these columns\n",
        "df.drop([\"Review_Date\", \"Review_Total_Negative_Word_Counts\", \"Review_Total_Positive_Word_Counts\", \"days_since_review\", \"Total_Number_of_Reviews_Reviewer_Has_Given\"], axis = 1, inplace=True)"
      ],
      "metadata": {
        "id": "DqCzh1fJxuA4"
      },
      "execution_count": 8,
      "outputs": []
    },
    {
      "cell_type": "code",
      "source": [
        "# Saving new data file with calculated columns\n",
        "print(\"Saving results to Hotel_Reviews_Filtered.csv\")\n",
        "df.to_csv(r'/content/Hotel_Reviews_Filtered.csv', index = False)\n",
        "end = time.time()\n",
        "print(\"Filtering took \" + str(round(end - start, 2)) + \" seconds\")"
      ],
      "metadata": {
        "colab": {
          "base_uri": "https://localhost:8080/"
        },
        "id": "E8SFiidQxxQ7",
        "outputId": "e9ba8710-d343-4e0c-aa78-95132defdc7a"
      },
      "execution_count": 9,
      "outputs": [
        {
          "output_type": "stream",
          "name": "stdout",
          "text": [
            "Saving results to Hotel_Reviews_Filtered.csv\n",
            "Filtering took 27.21 seconds\n"
          ]
        }
      ]
    }
  ]
}